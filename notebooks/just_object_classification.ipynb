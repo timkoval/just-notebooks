{
  "metadata": {
    "kernelspec": {
      "language": "python",
      "display_name": "Python 3",
      "name": "python3"
    },
    "language_info": {
      "name": "python",
      "version": "3.7.12",
      "mimetype": "text/x-python",
      "codemirror_mode": {
        "name": "ipython",
        "version": 3
      },
      "pygments_lexer": "ipython3",
      "nbconvert_exporter": "python",
      "file_extension": ".py"
    },
    "colab": {
      "provenance": []
    },
    "accelerator": "GPU",
    "gpuClass": "standard"
  },
  "nbformat_minor": 0,
  "nbformat": 4,
  "cells": [
    {
      "cell_type": "markdown",
      "source": [
        "# Just Object Classification Demo Project\n",
        "Here you can go through my demo project that uses VGG-like network. This notebook is just given to demonstrate basic concepts of Object Classification and their implementation using Pytorch."
      ],
      "metadata": {
        "id": "rCpjfYGv-frS"
      }
    },
    {
      "cell_type": "markdown",
      "source": [
        "Importing all necessary packages and modules"
      ],
      "metadata": {
        "id": "pY-1CXbf7RGx"
      }
    },
    {
      "cell_type": "code",
      "source": [
        "import torch\n",
        "import torch.nn as nn\n",
        "import numpy as np\n",
        "from tqdm import tqdm\n",
        "import torchvision\n",
        "from torchvision import transforms\n",
        "import matplotlib.pyplot as plt\n",
        "from torch.autograd import Variable\n",
        "%matplotlib inline"
      ],
      "metadata": {
        "execution": {
          "iopub.status.busy": "2023-01-30T10:56:00.400583Z",
          "iopub.execute_input": "2023-01-30T10:56:00.400996Z",
          "iopub.status.idle": "2023-01-30T10:56:02.475598Z",
          "shell.execute_reply.started": "2023-01-30T10:56:00.400916Z",
          "shell.execute_reply": "2023-01-30T10:56:02.474678Z"
        },
        "trusted": true,
        "id": "VTFq6GtR9c1K"
      },
      "execution_count": 1,
      "outputs": []
    },
    {
      "cell_type": "markdown",
      "source": [
        "We will use a common dataset named `CIFAR10` which consists of 60000 32x32 color images that are equally distributed into 10 classes"
      ],
      "metadata": {
        "id": "VhVj1hfV7Vvp"
      }
    },
    {
      "cell_type": "code",
      "source": [
        "from torchvision.datasets import CIFAR10"
      ],
      "metadata": {
        "execution": {
          "iopub.status.busy": "2023-01-30T10:56:02.477689Z",
          "iopub.execute_input": "2023-01-30T10:56:02.478194Z",
          "iopub.status.idle": "2023-01-30T10:56:02.483723Z",
          "shell.execute_reply.started": "2023-01-30T10:56:02.478160Z",
          "shell.execute_reply": "2023-01-30T10:56:02.482414Z"
        },
        "trusted": true,
        "id": "Z0qGtfuT9c1M"
      },
      "execution_count": 2,
      "outputs": []
    },
    {
      "cell_type": "markdown",
      "source": [
        "Hyperparamethers stuff:"
      ],
      "metadata": {
        "id": "uc13Vrud76H-"
      }
    },
    {
      "cell_type": "code",
      "source": [
        "BATCH_SIZE = 20\n",
        "VALIDATION_MULTIPLIER = 0.2\n",
        "NUM_WORKERS = 0\n",
        "LEARNING_RATE = 0.01"
      ],
      "metadata": {
        "execution": {
          "iopub.status.busy": "2023-01-30T10:56:02.485360Z",
          "iopub.execute_input": "2023-01-30T10:56:02.486147Z",
          "iopub.status.idle": "2023-01-30T10:56:02.494930Z",
          "shell.execute_reply.started": "2023-01-30T10:56:02.486077Z",
          "shell.execute_reply": "2023-01-30T10:56:02.494000Z"
        },
        "trusted": true,
        "id": "rOrOs6eG9c1N"
      },
      "execution_count": 3,
      "outputs": []
    },
    {
      "cell_type": "markdown",
      "source": [
        "Then we need to define train, validation and test datasets in order to use them further. \n",
        "\n",
        "First of all, we define some basic transformations to make images suitable for our model.\n",
        "\n",
        "We also divide our entire dataset into a train and a test subsets while initializing dataset objects. Then we split our train set into train and validation and make all necessary `DataLoader`'s"
      ],
      "metadata": {
        "id": "WK8El7JE7-FZ"
      }
    },
    {
      "cell_type": "code",
      "source": [
        "transform = transforms.Compose(\n",
        "    [transforms.Resize((56,56)),\n",
        "     transforms.ToTensor(),\n",
        "     transforms.Normalize((0.5, 0.5, 0.5), (0.5, 0.5, 0.5))])"
      ],
      "metadata": {
        "execution": {
          "iopub.status.busy": "2023-01-30T10:56:02.497557Z",
          "iopub.execute_input": "2023-01-30T10:56:02.497897Z",
          "iopub.status.idle": "2023-01-30T10:56:02.504236Z",
          "shell.execute_reply.started": "2023-01-30T10:56:02.497865Z",
          "shell.execute_reply": "2023-01-30T10:56:02.503325Z"
        },
        "trusted": true,
        "id": "Vl_wyICI9c1N"
      },
      "execution_count": 4,
      "outputs": []
    },
    {
      "cell_type": "code",
      "source": [
        "train_set = CIFAR10(root=\"./train\", train=True, download=True, transform=transform)\n",
        "test_set = CIFAR10(root=\"./test\", train=False, download=True, transform=transform)\n",
        "classes = ('plane', 'car', 'bird', 'cat',\n",
        "           'deer', 'dog', 'frog', 'horse', 'ship', 'truck')"
      ],
      "metadata": {
        "execution": {
          "iopub.status.busy": "2023-01-30T10:56:02.505831Z",
          "iopub.execute_input": "2023-01-30T10:56:02.506160Z",
          "iopub.status.idle": "2023-01-30T10:56:15.586503Z",
          "shell.execute_reply.started": "2023-01-30T10:56:02.506129Z",
          "shell.execute_reply": "2023-01-30T10:56:15.585552Z"
        },
        "trusted": true,
        "colab": {
          "base_uri": "https://localhost:8080/"
        },
        "id": "2b8aK2lb9c1O",
        "outputId": "cbfa5ac5-03f5-4910-8cad-1bbabcdfc105"
      },
      "execution_count": 5,
      "outputs": [
        {
          "output_type": "stream",
          "name": "stdout",
          "text": [
            "Files already downloaded and verified\n",
            "Files already downloaded and verified\n"
          ]
        }
      ]
    },
    {
      "cell_type": "code",
      "source": [
        "def get_train_val_indices(validation_multiplier):\n",
        "    \"\"\"Train and validation splitting function.\"\"\"\n",
        "    indices = np.arange(len(train_set))\n",
        "    np.random.shuffle(indices)\n",
        "    splitting = int(np.floor(validation_multiplier*len(train_set)))\n",
        "    return (indices[splitting:], indices[:splitting])"
      ],
      "metadata": {
        "execution": {
          "iopub.status.busy": "2023-01-30T10:56:15.588125Z",
          "iopub.execute_input": "2023-01-30T10:56:15.588554Z",
          "iopub.status.idle": "2023-01-30T10:56:15.594739Z",
          "shell.execute_reply.started": "2023-01-30T10:56:15.588515Z",
          "shell.execute_reply": "2023-01-30T10:56:15.593756Z"
        },
        "trusted": true,
        "id": "xVYO7IU29c1O"
      },
      "execution_count": 6,
      "outputs": []
    },
    {
      "cell_type": "code",
      "source": [
        "def imshow(img):\n",
        "    \"\"\"Image displaying function.\"\"\"\n",
        "    img = img / 2 + 0.5 \n",
        "    npimg = img.numpy()\n",
        "    plt.imshow(np.transpose(npimg, (1, 2, 0)))\n",
        "    plt.show()"
      ],
      "metadata": {
        "execution": {
          "iopub.status.busy": "2023-01-30T10:56:15.595950Z",
          "iopub.execute_input": "2023-01-30T10:56:15.596838Z",
          "iopub.status.idle": "2023-01-30T10:56:15.604887Z",
          "shell.execute_reply.started": "2023-01-30T10:56:15.596802Z",
          "shell.execute_reply": "2023-01-30T10:56:15.603939Z"
        },
        "trusted": true,
        "id": "PxcQjNh49c1P"
      },
      "execution_count": 7,
      "outputs": []
    },
    {
      "cell_type": "code",
      "source": [
        "train_indices, val_indices = get_train_val_indices(VALIDATION_MULTIPLIER)\n",
        "print(len(train_indices))\n",
        "print(len(val_indices))"
      ],
      "metadata": {
        "execution": {
          "iopub.status.busy": "2023-01-30T10:56:15.606206Z",
          "iopub.execute_input": "2023-01-30T10:56:15.606565Z",
          "iopub.status.idle": "2023-01-30T10:56:15.618406Z",
          "shell.execute_reply.started": "2023-01-30T10:56:15.606532Z",
          "shell.execute_reply": "2023-01-30T10:56:15.617478Z"
        },
        "trusted": true,
        "colab": {
          "base_uri": "https://localhost:8080/"
        },
        "id": "8vTd7ai_9c1P",
        "outputId": "20aa7592-a704-4c56-88cf-8c0e6af06010"
      },
      "execution_count": 8,
      "outputs": [
        {
          "output_type": "stream",
          "name": "stdout",
          "text": [
            "40000\n",
            "10000\n"
          ]
        }
      ]
    },
    {
      "cell_type": "code",
      "source": [
        "train_data = torch.utils.data.DataLoader(\n",
        "    train_set, \n",
        "    batch_size=BATCH_SIZE, \n",
        "    shuffle=True,\n",
        "    num_workers=NUM_WORKERS\n",
        ")\n",
        "val_data = torch.utils.data.DataLoader(\n",
        "    train_set,\n",
        "    batch_size=BATCH_SIZE,\n",
        "    shuffle=True,\n",
        "    num_workers=NUM_WORKERS\n",
        ")\n",
        "test_data = torch.utils.data.DataLoader(\n",
        "    test_set,\n",
        "    batch_size=BATCH_SIZE,\n",
        "    num_workers=NUM_WORKERS\n",
        ")"
      ],
      "metadata": {
        "execution": {
          "iopub.status.busy": "2023-01-30T10:56:15.621525Z",
          "iopub.execute_input": "2023-01-30T10:56:15.621818Z",
          "iopub.status.idle": "2023-01-30T10:56:15.629106Z",
          "shell.execute_reply.started": "2023-01-30T10:56:15.621793Z",
          "shell.execute_reply": "2023-01-30T10:56:15.628227Z"
        },
        "trusted": true,
        "id": "dtJlUBr99c1Q"
      },
      "execution_count": 9,
      "outputs": []
    },
    {
      "cell_type": "markdown",
      "source": [
        "Let's preview some images from a train dataset"
      ],
      "metadata": {
        "id": "s8Uu3FaB9Ss-"
      }
    },
    {
      "cell_type": "code",
      "source": [
        "images, labels = next(iter(train_data))\n",
        "imshow(torchvision.utils.make_grid(images))\n",
        "print([classes[i] for i in labels])"
      ],
      "metadata": {
        "execution": {
          "iopub.status.busy": "2023-01-30T10:56:15.633227Z",
          "iopub.execute_input": "2023-01-30T10:56:15.633499Z",
          "iopub.status.idle": "2023-01-30T10:56:15.900275Z",
          "shell.execute_reply.started": "2023-01-30T10:56:15.633475Z",
          "shell.execute_reply": "2023-01-30T10:56:15.899455Z"
        },
        "trusted": true,
        "colab": {
          "base_uri": "https://localhost:8080/",
          "height": 195
        },
        "id": "-4ShGBub9c1Q",
        "outputId": "fd59151d-68c0-489a-8183-4d5b43a6fe7e"
      },
      "execution_count": 10,
      "outputs": [
        {
          "output_type": "display_data",
          "data": {
            "text/plain": [
              "<Figure size 432x288 with 1 Axes>"
            ],
            "image/png": "[encoded data removed]"
          },
          "metadata": {
            "needs_background": "light"
          }
        },
        {
          "output_type": "stream",
          "name": "stdout",
          "text": [
            "['truck', 'horse', 'deer', 'bird', 'bird', 'ship', 'ship', 'horse', 'dog', 'deer', 'cat', 'cat', 'frog', 'frog', 'bird', 'ship', 'dog', 'bird', 'ship', 'ship']\n"
          ]
        }
      ]
    },
    {
      "cell_type": "markdown",
      "source": [
        "We will use `VGG`-like model just because it's complexity allows to easily train it in a small period of time while providing a good enough accuracy for demonstration purposes:"
      ],
      "metadata": {
        "id": "OJEDWC3V9al4"
      }
    },
    {
      "cell_type": "code",
      "source": [
        "class Net(nn.Module):\n",
        "    \"\"\"A VGG-like net that we will use in this demo project.\"\"\"\n",
        "    def __init__(self, num_classes=10):\n",
        "        super(Net, self).__init__()\n",
        "        self.conv1 = nn.Sequential(\n",
        "            nn.Conv2d(3, 64, kernel_size=3, stride=1, padding=1),\n",
        "            nn.BatchNorm2d(64),\n",
        "            nn.ReLU())\n",
        "        self.conv2 = nn.Sequential(\n",
        "            nn.Conv2d(64, 64, kernel_size=3, stride=1, padding=1),\n",
        "            nn.BatchNorm2d(64),\n",
        "            nn.ReLU(), \n",
        "            nn.MaxPool2d(kernel_size = 2, stride = 2))\n",
        "        self.conv3 = nn.Sequential(\n",
        "            nn.Conv2d(64, 128, kernel_size=3, stride=1, padding=1),\n",
        "            nn.BatchNorm2d(128),\n",
        "            nn.ReLU())\n",
        "        self.conv4 = nn.Sequential(\n",
        "            nn.Conv2d(128, 128, kernel_size=3, stride=1, padding=1),\n",
        "            nn.BatchNorm2d(128),\n",
        "            nn.ReLU(),\n",
        "            nn.MaxPool2d(kernel_size = 2, stride = 2))\n",
        "        self.conv5 = nn.Sequential(\n",
        "            nn.Conv2d(128, 256, kernel_size=3, stride=1, padding=1),\n",
        "            nn.BatchNorm2d(256),\n",
        "            nn.ReLU())\n",
        "        self.conv6 = nn.Sequential(\n",
        "            nn.Conv2d(256, 256, kernel_size=3, stride=1, padding=1),\n",
        "            nn.BatchNorm2d(256),\n",
        "            nn.ReLU())\n",
        "        self.conv7 = nn.Sequential(\n",
        "            nn.Conv2d(256, 256, kernel_size=3, stride=1, padding=1),\n",
        "            nn.BatchNorm2d(256),\n",
        "            nn.ReLU(),\n",
        "            nn.MaxPool2d(kernel_size = 2, stride = 2))\n",
        "#         self.conv8 = nn.Sequential(\n",
        "#             nn.Conv2d(256, 512, kernel_size=3, stride=1, padding=1),\n",
        "#             nn.BatchNorm2d(512),\n",
        "#             nn.ReLU())\n",
        "#         self.conv9 = nn.Sequential(\n",
        "#             nn.Conv2d(512, 512, kernel_size=3, stride=1, padding=1),\n",
        "#             nn.BatchNorm2d(512),\n",
        "#             nn.ReLU())\n",
        "#         self.conv10 = nn.Sequential(\n",
        "#             nn.Conv2d(512, 512, kernel_size=3, stride=1, padding=1),\n",
        "#             nn.BatchNorm2d(512),\n",
        "#             nn.ReLU(),\n",
        "#             nn.MaxPool2d(kernel_size = 2, stride = 2))\n",
        "#         self.conv11 = nn.Sequential(\n",
        "#             nn.Conv2d(512, 512, kernel_size=3, stride=1, padding=1),\n",
        "#             nn.BatchNorm2d(512),\n",
        "#             nn.ReLU())\n",
        "#         self.conv12 = nn.Sequential(\n",
        "#             nn.Conv2d(512, 512, kernel_size=3, stride=1, padding=1),\n",
        "#             nn.BatchNorm2d(512),\n",
        "#             nn.ReLU())\n",
        "#         self.conv13 = nn.Sequential(\n",
        "#             nn.Conv2d(512, 512, kernel_size=3, stride=1, padding=1),\n",
        "#             nn.BatchNorm2d(512),\n",
        "#             nn.ReLU(),\n",
        "#             nn.MaxPool2d(kernel_size = 2, stride = 2))\n",
        "        self.fc = nn.Sequential(\n",
        "            nn.Dropout(0.5),\n",
        "            nn.Linear(7*7*256, 4096),\n",
        "            nn.ReLU())\n",
        "        self.fc1 = nn.Sequential(\n",
        "            nn.Dropout(0.5),\n",
        "            nn.Linear(4096, 4096),\n",
        "            nn.ReLU())\n",
        "        self.fc2= nn.Sequential(\n",
        "            nn.Linear(4096, num_classes))\n",
        "        \n",
        "    def forward(self, x):\n",
        "        out = self.conv1(x)\n",
        "        out = self.conv2(out)\n",
        "        out = self.conv3(out)\n",
        "        out = self.conv4(out)\n",
        "        out = self.conv5(out)\n",
        "        out = self.conv6(out)\n",
        "        out = self.conv7(out)\n",
        "#         out = self.conv8(out)\n",
        "#         out = self.conv9(out)\n",
        "#         out = self.conv10(out)\n",
        "#         out = self.conv11(out)\n",
        "#         out = self.conv12(out)\n",
        "#         out = self.conv13(out)\n",
        "        out = out.reshape(out.size(0), -1)\n",
        "        out = self.fc(out)\n",
        "        out = self.fc1(out)\n",
        "        out = self.fc2(out)\n",
        "        return out"
      ],
      "metadata": {
        "execution": {
          "iopub.status.busy": "2023-01-30T10:56:15.901368Z",
          "iopub.execute_input": "2023-01-30T10:56:15.901728Z",
          "iopub.status.idle": "2023-01-30T10:56:15.917660Z",
          "shell.execute_reply.started": "2023-01-30T10:56:15.901686Z",
          "shell.execute_reply": "2023-01-30T10:56:15.916683Z"
        },
        "trusted": true,
        "id": "bdTB3_2c9c1Q"
      },
      "execution_count": 11,
      "outputs": []
    },
    {
      "cell_type": "code",
      "source": [
        "model = Net()\n",
        "model"
      ],
      "metadata": {
        "execution": {
          "iopub.status.busy": "2023-01-30T10:56:15.919327Z",
          "iopub.execute_input": "2023-01-30T10:56:15.920014Z",
          "iopub.status.idle": "2023-01-30T10:56:16.528410Z",
          "shell.execute_reply.started": "2023-01-30T10:56:15.919978Z",
          "shell.execute_reply": "2023-01-30T10:56:16.527366Z"
        },
        "trusted": true,
        "colab": {
          "base_uri": "https://localhost:8080/"
        },
        "id": "lfbTbNSb9c1R",
        "outputId": "123d7467-d5e3-4133-ddd3-a089993c6574"
      },
      "execution_count": 12,
      "outputs": [
        {
          "output_type": "execute_result",
          "data": {
            "text/plain": [
              "Net(\n",
              "  (conv1): Sequential(\n",
              "    (0): Conv2d(3, 64, kernel_size=(3, 3), stride=(1, 1), padding=(1, 1))\n",
              "    (1): BatchNorm2d(64, eps=1e-05, momentum=0.1, affine=True, track_running_stats=True)\n",
              "    (2): ReLU()\n",
              "  )\n",
              "  (conv2): Sequential(\n",
              "    (0): Conv2d(64, 64, kernel_size=(3, 3), stride=(1, 1), padding=(1, 1))\n",
              "    (1): BatchNorm2d(64, eps=1e-05, momentum=0.1, affine=True, track_running_stats=True)\n",
              "    (2): ReLU()\n",
              "    (3): MaxPool2d(kernel_size=2, stride=2, padding=0, dilation=1, ceil_mode=False)\n",
              "  )\n",
              "  (conv3): Sequential(\n",
              "    (0): Conv2d(64, 128, kernel_size=(3, 3), stride=(1, 1), padding=(1, 1))\n",
              "    (1): BatchNorm2d(128, eps=1e-05, momentum=0.1, affine=True, track_running_stats=True)\n",
              "    (2): ReLU()\n",
              "  )\n",
              "  (conv4): Sequential(\n",
              "    (0): Conv2d(128, 128, kernel_size=(3, 3), stride=(1, 1), padding=(1, 1))\n",
              "    (1): BatchNorm2d(128, eps=1e-05, momentum=0.1, affine=True, track_running_stats=True)\n",
              "    (2): ReLU()\n",
              "    (3): MaxPool2d(kernel_size=2, stride=2, padding=0, dilation=1, ceil_mode=False)\n",
              "  )\n",
              "  (conv5): Sequential(\n",
              "    (0): Conv2d(128, 256, kernel_size=(3, 3), stride=(1, 1), padding=(1, 1))\n",
              "    (1): BatchNorm2d(256, eps=1e-05, momentum=0.1, affine=True, track_running_stats=True)\n",
              "    (2): ReLU()\n",
              "  )\n",
              "  (conv6): Sequential(\n",
              "    (0): Conv2d(256, 256, kernel_size=(3, 3), stride=(1, 1), padding=(1, 1))\n",
              "    (1): BatchNorm2d(256, eps=1e-05, momentum=0.1, affine=True, track_running_stats=True)\n",
              "    (2): ReLU()\n",
              "  )\n",
              "  (conv7): Sequential(\n",
              "    (0): Conv2d(256, 256, kernel_size=(3, 3), stride=(1, 1), padding=(1, 1))\n",
              "    (1): BatchNorm2d(256, eps=1e-05, momentum=0.1, affine=True, track_running_stats=True)\n",
              "    (2): ReLU()\n",
              "    (3): MaxPool2d(kernel_size=2, stride=2, padding=0, dilation=1, ceil_mode=False)\n",
              "  )\n",
              "  (fc): Sequential(\n",
              "    (0): Dropout(p=0.5, inplace=False)\n",
              "    (1): Linear(in_features=12544, out_features=4096, bias=True)\n",
              "    (2): ReLU()\n",
              "  )\n",
              "  (fc1): Sequential(\n",
              "    (0): Dropout(p=0.5, inplace=False)\n",
              "    (1): Linear(in_features=4096, out_features=4096, bias=True)\n",
              "    (2): ReLU()\n",
              "  )\n",
              "  (fc2): Sequential(\n",
              "    (0): Linear(in_features=4096, out_features=10, bias=True)\n",
              "  )\n",
              ")"
            ]
          },
          "metadata": {},
          "execution_count": 12
        }
      ]
    },
    {
      "cell_type": "code",
      "source": [
        "loss_func = nn.CrossEntropyLoss()\n",
        "optimizer = torch.optim.SGD(model.parameters(), lr=LEARNING_RATE)\n",
        "scheduler = torch.optim.lr_scheduler.ExponentialLR(optimizer, gamma=0.9)"
      ],
      "metadata": {
        "execution": {
          "iopub.status.busy": "2023-01-30T10:56:16.529743Z",
          "iopub.execute_input": "2023-01-30T10:56:16.530188Z",
          "iopub.status.idle": "2023-01-30T10:56:16.535559Z",
          "shell.execute_reply.started": "2023-01-30T10:56:16.530152Z",
          "shell.execute_reply": "2023-01-30T10:56:16.534603Z"
        },
        "trusted": true,
        "id": "8oUAOSUp9c1R"
      },
      "execution_count": 13,
      "outputs": []
    },
    {
      "cell_type": "markdown",
      "source": [
        "All supporting functions are given below:"
      ],
      "metadata": {
        "id": "CN2HhHAl94v2"
      }
    },
    {
      "cell_type": "code",
      "source": [
        "def get_accuracy():\n",
        "    \"\"\"Func to get accuracy on a validation dataset.\"\"\"\n",
        "    model.eval()\n",
        "    accuracy = 0.0\n",
        "    total = 0.0\n",
        "    \n",
        "    with torch.no_grad():\n",
        "        for images, labels in val_data:\n",
        "            images = Variable(images.to(device))\n",
        "            labels = Variable(labels.to(device))\n",
        "            \n",
        "            outputs = model(images)\n",
        "            _, predictions = torch.max(outputs.data, 1)\n",
        "            total += labels.size(0)\n",
        "            accuracy += (predictions == labels).sum().item()\n",
        "            \n",
        "    accuracy = (100 * accuracy / total)\n",
        "    return(accuracy)"
      ],
      "metadata": {
        "execution": {
          "iopub.status.busy": "2023-01-30T10:56:16.537062Z",
          "iopub.execute_input": "2023-01-30T10:56:16.537724Z",
          "iopub.status.idle": "2023-01-30T10:56:16.547853Z",
          "shell.execute_reply.started": "2023-01-30T10:56:16.537690Z",
          "shell.execute_reply": "2023-01-30T10:56:16.546661Z"
        },
        "trusted": true,
        "id": "1NioGssJ9c1S"
      },
      "execution_count": 14,
      "outputs": []
    },
    {
      "cell_type": "code",
      "source": [
        "def train(num_epochs):\n",
        "    \"\"\"Training function.\"\"\"\n",
        "    max_accuracy = 0.0\n",
        "    print(\"The model will be running on\", device, \"device\")\n",
        "    model.to(device)\n",
        "    \n",
        "    for epoch in range(num_epochs):\n",
        "        current_loss = 0.0\n",
        "        current_accuracy = 0.0\n",
        "        for index, (images, labels) in enumerate(tqdm(train_data), 0):\n",
        "            images = Variable(images.to(device))\n",
        "            labels = Variable(labels.to(device))\n",
        "            \n",
        "            optimizer.zero_grad()\n",
        "            \n",
        "            outputs = model(images)\n",
        "            loss = loss_func(outputs, labels)\n",
        "            loss.backward()\n",
        "            optimizer.step()\n",
        "            \n",
        "            current_loss += loss.item()\n",
        "            if index % 1000 == 999:    # print every 2000 mini-batches\n",
        "                print(f'[{epoch + 1}, {index + 1:5d}] loss: {current_loss / 1000:.3f}')\n",
        "                current_loss = 0.0\n",
        "        scheduler.step()\n",
        "        accuracy = get_accuracy()\n",
        "        print(f\"Epoch: {epoch+1}    Accuracy: {accuracy}\")\n",
        "        \n",
        "        if accuracy > max_accuracy:\n",
        "            path = \"./model.pth\"\n",
        "            torch.save(model.state_dict(), path)\n",
        "            max_accuracy = accuracy"
      ],
      "metadata": {
        "execution": {
          "iopub.status.busy": "2023-01-30T10:56:16.550963Z",
          "iopub.execute_input": "2023-01-30T10:56:16.551212Z",
          "iopub.status.idle": "2023-01-30T10:56:16.562417Z",
          "shell.execute_reply.started": "2023-01-30T10:56:16.551189Z",
          "shell.execute_reply": "2023-01-30T10:56:16.561473Z"
        },
        "trusted": true,
        "id": "cGhKX92d9c1S"
      },
      "execution_count": 15,
      "outputs": []
    },
    {
      "cell_type": "code",
      "source": [
        "def test():\n",
        "    \"\"\"Testing function.\"\"\"\n",
        "    accuracy = 0.0\n",
        "    total = 0.0\n",
        "    with torch.no_grad():\n",
        "        for images, labels in test_data:\n",
        "            #images = Variable(images.to(device))\n",
        "            #labels = Variable(labels.to(device))\n",
        "\n",
        "#             imshow(torchvision.utils.make_grid(images.cpu()))\n",
        "            # print(\"Ground truth: \", ' '.join([classes[labels[idx]] for idx in range(BATCH_SIZE)]))\n",
        "            outputs = model(images)\n",
        "            _, predictions = torch.max(outputs, 1)\n",
        "            total += labels.size(0)\n",
        "            accuracy += (predictions == labels).sum().item()\n",
        "            # print(\"Prediction: \", ' '.join([classes[predictions[idx]] for idx in range(BATCH_SIZE)]))\n",
        "    \n",
        "    accuracy = (100 * accuracy / total)\n",
        "    print(accuracy)"
      ],
      "metadata": {
        "execution": {
          "iopub.status.busy": "2023-01-30T11:22:24.437781Z",
          "iopub.execute_input": "2023-01-30T11:22:24.438138Z",
          "iopub.status.idle": "2023-01-30T11:22:24.446320Z",
          "shell.execute_reply.started": "2023-01-30T11:22:24.438109Z",
          "shell.execute_reply": "2023-01-30T11:22:24.445057Z"
        },
        "trusted": true,
        "id": "2ZSWzLNG9c1T"
      },
      "execution_count": 16,
      "outputs": []
    },
    {
      "cell_type": "markdown",
      "source": [
        "Main cell that goes through 5 epochs of training process using a CUDA device"
      ],
      "metadata": {
        "id": "27EZA9sz_i8N"
      }
    },
    {
      "cell_type": "code",
      "source": [
        "NUM_EPOCHS = 5\n",
        "device = torch.device(\"cuda:0\" if torch.cuda.is_available() else \"cpu\")\n",
        "train(NUM_EPOCHS)\n",
        "print(\"Training Finished\")"
      ],
      "metadata": {
        "execution": {
          "iopub.status.busy": "2023-01-30T10:56:16.575936Z",
          "iopub.execute_input": "2023-01-30T10:56:16.576337Z",
          "iopub.status.idle": "2023-01-30T11:04:25.222907Z",
          "shell.execute_reply.started": "2023-01-30T10:56:16.576304Z",
          "shell.execute_reply": "2023-01-30T11:04:25.221798Z"
        },
        "trusted": true,
        "colab": {
          "base_uri": "https://localhost:8080/"
        },
        "id": "_ujL61Ti9c1T",
        "outputId": "4c3e7b4a-445c-4389-8cf4-2c058fbbaa7d"
      },
      "execution_count": 17,
      "outputs": [
        {
          "output_type": "stream",
          "name": "stdout",
          "text": [
            "The model will be running on cuda:0 device\n"
          ]
        },
        {
          "output_type": "stream",
          "name": "stderr",
          "text": [
            " 40%|████      | 1003/2500 [00:43<00:58, 25.60it/s]"
          ]
        },
        {
          "output_type": "stream",
          "name": "stdout",
          "text": [
            "[1,  1000] loss: 1.597\n"
          ]
        },
        {
          "output_type": "stream",
          "name": "stderr",
          "text": [
            " 80%|████████  | 2005/2500 [01:23<00:19, 24.91it/s]"
          ]
        },
        {
          "output_type": "stream",
          "name": "stdout",
          "text": [
            "[1,  2000] loss: 1.210\n"
          ]
        },
        {
          "output_type": "stream",
          "name": "stderr",
          "text": [
            "100%|██████████| 2500/2500 [01:42<00:00, 24.44it/s]\n"
          ]
        },
        {
          "output_type": "stream",
          "name": "stdout",
          "text": [
            "Epoch: 1    Accuracy: 62.852\n"
          ]
        },
        {
          "output_type": "stream",
          "name": "stderr",
          "text": [
            " 40%|████      | 1005/2500 [00:40<00:56, 26.48it/s]"
          ]
        },
        {
          "output_type": "stream",
          "name": "stdout",
          "text": [
            "[2,  1000] loss: 1.192\n"
          ]
        },
        {
          "output_type": "stream",
          "name": "stderr",
          "text": [
            " 80%|████████  | 2004/2500 [01:18<00:18, 26.42it/s]"
          ]
        },
        {
          "output_type": "stream",
          "name": "stdout",
          "text": [
            "[2,  2000] loss: 0.852\n"
          ]
        },
        {
          "output_type": "stream",
          "name": "stderr",
          "text": [
            "100%|██████████| 2500/2500 [01:37<00:00, 25.58it/s]\n"
          ]
        },
        {
          "output_type": "stream",
          "name": "stdout",
          "text": [
            "Epoch: 2    Accuracy: 76.176\n"
          ]
        },
        {
          "output_type": "stream",
          "name": "stderr",
          "text": [
            " 40%|████      | 1005/2500 [00:38<00:56, 26.40it/s]"
          ]
        },
        {
          "output_type": "stream",
          "name": "stdout",
          "text": [
            "[3,  1000] loss: 0.653\n"
          ]
        },
        {
          "output_type": "stream",
          "name": "stderr",
          "text": [
            " 80%|████████  | 2004/2500 [01:16<00:18, 26.18it/s]"
          ]
        },
        {
          "output_type": "stream",
          "name": "stdout",
          "text": [
            "[3,  2000] loss: 0.630\n"
          ]
        },
        {
          "output_type": "stream",
          "name": "stderr",
          "text": [
            "100%|██████████| 2500/2500 [01:34<00:00, 26.35it/s]\n"
          ]
        },
        {
          "output_type": "stream",
          "name": "stdout",
          "text": [
            "Epoch: 3    Accuracy: 82.158\n"
          ]
        },
        {
          "output_type": "stream",
          "name": "stderr",
          "text": [
            " 40%|████      | 1005/2500 [00:38<00:56, 26.33it/s]"
          ]
        },
        {
          "output_type": "stream",
          "name": "stdout",
          "text": [
            "[4,  1000] loss: 0.453\n"
          ]
        },
        {
          "output_type": "stream",
          "name": "stderr",
          "text": [
            " 80%|████████  | 2004/2500 [01:16<00:19, 25.96it/s]"
          ]
        },
        {
          "output_type": "stream",
          "name": "stdout",
          "text": [
            "[4,  2000] loss: 0.457\n"
          ]
        },
        {
          "output_type": "stream",
          "name": "stderr",
          "text": [
            "100%|██████████| 2500/2500 [01:34<00:00, 26.34it/s]\n"
          ]
        },
        {
          "output_type": "stream",
          "name": "stdout",
          "text": [
            "Epoch: 4    Accuracy: 90.716\n"
          ]
        },
        {
          "output_type": "stream",
          "name": "stderr",
          "text": [
            " 40%|████      | 1005/2500 [00:37<00:57, 26.10it/s]"
          ]
        },
        {
          "output_type": "stream",
          "name": "stdout",
          "text": [
            "[5,  1000] loss: 0.282\n"
          ]
        },
        {
          "output_type": "stream",
          "name": "stderr",
          "text": [
            " 80%|████████  | 2004/2500 [01:15<00:18, 26.57it/s]"
          ]
        },
        {
          "output_type": "stream",
          "name": "stdout",
          "text": [
            "[5,  2000] loss: 0.294\n"
          ]
        },
        {
          "output_type": "stream",
          "name": "stderr",
          "text": [
            "100%|██████████| 2500/2500 [01:34<00:00, 26.45it/s]\n"
          ]
        },
        {
          "output_type": "stream",
          "name": "stdout",
          "text": [
            "Epoch: 5    Accuracy: 94.52\n",
            "Training Finished\n"
          ]
        }
      ]
    },
    {
      "cell_type": "markdown",
      "source": [
        "After training, we get 94,5% accuracy on a validation set, but of course we still need some testing"
      ],
      "metadata": {
        "id": "bTGRkXG4AFg9"
      }
    },
    {
      "cell_type": "code",
      "source": [
        "model = Net()\n",
        "model.load_state_dict(torch.load(\"./model.pth\"))\n",
        "model.eval()\n",
        "test()"
      ],
      "metadata": {
        "execution": {
          "iopub.status.busy": "2023-01-30T11:22:30.262868Z",
          "iopub.execute_input": "2023-01-30T11:22:30.263274Z",
          "iopub.status.idle": "2023-01-30T11:25:14.870453Z",
          "shell.execute_reply.started": "2023-01-30T11:22:30.263239Z",
          "shell.execute_reply": "2023-01-30T11:25:14.868767Z"
        },
        "trusted": true,
        "colab": {
          "base_uri": "https://localhost:8080/"
        },
        "id": "2PXq9THR9c1U",
        "outputId": "ded34332-9dbf-4af0-f881-a0ae33de7e99"
      },
      "execution_count": 18,
      "outputs": [
        {
          "output_type": "stream",
          "name": "stdout",
          "text": [
            "80.08\n"
          ]
        }
      ]
    },
    {
      "cell_type": "markdown",
      "source": [
        "`80%` accuracy on a training dataset. So far so good, since we used a very light model and performed only 5 epochs of training. \n",
        "\n",
        "Thank you!"
      ],
      "metadata": {
        "id": "Q66Qda4BAU8f"
      }
    }
  ]
}